{
  "nbformat": 4,
  "nbformat_minor": 0,
  "metadata": {
    "colab": {
      "provenance": [],
      "gpuType": "T4",
      "include_colab_link": true
    },
    "kernelspec": {
      "name": "python3",
      "display_name": "Python 3"
    },
    "accelerator": "GPU"
  },
  "cells": [
    {
      "cell_type": "markdown",
      "metadata": {
        "id": "view-in-github",
        "colab_type": "text"
      },
      "source": [
        "<a href=\"https://colab.research.google.com/github/fahmi54321/ml_logistic_regression/blob/main/another_example_logistic_regression.ipynb\" target=\"_parent\"><img src=\"https://colab.research.google.com/assets/colab-badge.svg\" alt=\"Open In Colab\"/></a>"
      ]
    },
    {
      "cell_type": "markdown",
      "metadata": {
        "id": "0MRC0e0KhQ0S"
      },
      "source": [
        "# Logistic Regression"
      ]
    },
    {
      "cell_type": "markdown",
      "metadata": {
        "id": "LWd1UlMnhT2s"
      },
      "source": [
        "## Importing the libraries"
      ]
    },
    {
      "cell_type": "code",
      "metadata": {
        "id": "YvGPUQaHhXfL"
      },
      "source": [
        "import numpy as np\n",
        "import matplotlib.pyplot as plt\n",
        "import pandas as pd"
      ],
      "execution_count": 1,
      "outputs": []
    },
    {
      "cell_type": "markdown",
      "metadata": {
        "id": "K1VMqkGvhc3-"
      },
      "source": [
        "## Importing the dataset"
      ]
    },
    {
      "cell_type": "code",
      "metadata": {
        "id": "M52QDmyzhh9s"
      },
      "source": [
        "dataset = pd.read_csv('breast_cancer.csv')\n",
        "# :,1 = semua kolom yang dimulai dari kolom pertama\n",
        "# :-1 = semua kolom terkecuali kolom terakhir\n",
        "x = dataset.iloc[:,1 :-1].values\n",
        "y = dataset.iloc[:, -1].values"
      ],
      "execution_count": 2,
      "outputs": []
    },
    {
      "cell_type": "markdown",
      "metadata": {
        "id": "YvxIPVyMhmKp"
      },
      "source": [
        "## Splitting the dataset into the Training set and Test set"
      ]
    },
    {
      "cell_type": "code",
      "source": [
        "from sklearn.model_selection import train_test_split\n",
        "x_train, x_test, y_train, y_test = train_test_split(x, y, test_size = 0.2, random_state = 0)"
      ],
      "metadata": {
        "id": "MlRK11lt1ZRQ"
      },
      "execution_count": 3,
      "outputs": []
    },
    {
      "cell_type": "code",
      "source": [
        "print(x_train)"
      ],
      "metadata": {
        "id": "rO2xc9QB3qTh"
      },
      "execution_count": null,
      "outputs": []
    },
    {
      "cell_type": "code",
      "source": [
        "print(y_train)"
      ],
      "metadata": {
        "id": "VN6jsaA33qW-"
      },
      "execution_count": null,
      "outputs": []
    },
    {
      "cell_type": "code",
      "source": [
        "print(x_test)"
      ],
      "metadata": {
        "id": "5BNJ46pg3qi-"
      },
      "execution_count": null,
      "outputs": []
    },
    {
      "cell_type": "code",
      "source": [
        "print(y_test)"
      ],
      "metadata": {
        "id": "SSzMY2gm3qrK"
      },
      "execution_count": null,
      "outputs": []
    },
    {
      "cell_type": "markdown",
      "metadata": {
        "id": "kW3c7UYih0hT"
      },
      "source": [
        "## Feature Scaling"
      ]
    },
    {
      "cell_type": "code",
      "source": [
        "from sklearn.preprocessing import StandardScaler\n",
        "sc = StandardScaler()\n",
        "\n",
        "x_train = sc.fit_transform(x_train)\n",
        "x_test = sc.transform(x_test)"
      ],
      "metadata": {
        "id": "7rMPgPi-2ml5"
      },
      "execution_count": 4,
      "outputs": []
    },
    {
      "cell_type": "code",
      "source": [
        "print(x_train)"
      ],
      "metadata": {
        "colab": {
          "base_uri": "https://localhost:8080/"
        },
        "id": "EcsYVx803xPB",
        "outputId": "ef541205-4bbe-4978-9b14-75b5735a1263"
      },
      "execution_count": 5,
      "outputs": [
        {
          "output_type": "stream",
          "name": "stdout",
          "text": [
            "[[ 1.98839518 -0.69781134 -0.74152574 ...  0.61907387  0.34532102\n",
            "  -0.33863738]\n",
            " [-1.22468404 -0.69781134 -0.74152574 ... -0.18860673 -0.62157783\n",
            "  -0.33863738]\n",
            " [ 0.20335117 -0.69781134 -0.74152574 ... -0.18860673 -0.62157783\n",
            "  -0.33863738]\n",
            " ...\n",
            " [-1.22468404 -0.69781134 -0.74152574 ... -0.99628733 -0.62157783\n",
            "  -0.33863738]\n",
            " [-0.51066644 -0.69781134 -0.74152574 ... -0.59244703 -0.62157783\n",
            "  -0.33863738]\n",
            " [ 1.98839518  1.90512627  1.27779124 ...  1.42675446  1.31221987\n",
            "  -0.33863738]]\n"
          ]
        }
      ]
    },
    {
      "cell_type": "code",
      "source": [
        "print(x_test)"
      ],
      "metadata": {
        "colab": {
          "base_uri": "https://localhost:8080/"
        },
        "id": "kP29S9z63xes",
        "outputId": "59ddeea0-e436-4f1f-ef52-6f7dc1f0e39a"
      },
      "execution_count": 6,
      "outputs": [
        {
          "output_type": "stream",
          "name": "stdout",
          "text": [
            "[[-1.22468404 -0.69781134 -0.74152574 ... -0.99628733 -0.62157783\n",
            "  -0.33863738]\n",
            " [-0.51066644 -0.69781134 -0.74152574 ... -0.59244703 -0.62157783\n",
            "  -0.33863738]\n",
            " [ 0.20335117  0.60365746  0.60468558 ...  0.21523357  0.0230214\n",
            "  -0.33863738]\n",
            " ...\n",
            " [-0.15365763 -0.69781134 -0.74152574 ... -0.99628733 -0.62157783\n",
            "  -0.33863738]\n",
            " [-0.15365763  2.23049348  0.26813275 ...  2.23443506  2.27911872\n",
            "  -0.33863738]\n",
            " [-0.86767524 -0.69781134 -0.74152574 ... -0.59244703 -0.62157783\n",
            "  -0.33863738]]\n"
          ]
        }
      ]
    },
    {
      "cell_type": "markdown",
      "metadata": {
        "id": "bb6jCOCQiAmP"
      },
      "source": [
        "## Training the Logistic Regression model on the Training set"
      ]
    },
    {
      "cell_type": "code",
      "source": [
        "from sklearn.linear_model import LogisticRegression\n",
        "classifier = LogisticRegression(random_state = 0)\n",
        "classifier.fit(x_train, y_train)"
      ],
      "metadata": {
        "colab": {
          "base_uri": "https://localhost:8080/",
          "height": 74
        },
        "id": "lVd4w90j62ah",
        "outputId": "2947cdaf-049a-48de-9e94-2a4a7107e84f"
      },
      "execution_count": 7,
      "outputs": [
        {
          "output_type": "execute_result",
          "data": {
            "text/plain": [
              "LogisticRegression(random_state=0)"
            ],
            "text/html": [
              "<style>#sk-container-id-1 {color: black;background-color: white;}#sk-container-id-1 pre{padding: 0;}#sk-container-id-1 div.sk-toggleable {background-color: white;}#sk-container-id-1 label.sk-toggleable__label {cursor: pointer;display: block;width: 100%;margin-bottom: 0;padding: 0.3em;box-sizing: border-box;text-align: center;}#sk-container-id-1 label.sk-toggleable__label-arrow:before {content: \"▸\";float: left;margin-right: 0.25em;color: #696969;}#sk-container-id-1 label.sk-toggleable__label-arrow:hover:before {color: black;}#sk-container-id-1 div.sk-estimator:hover label.sk-toggleable__label-arrow:before {color: black;}#sk-container-id-1 div.sk-toggleable__content {max-height: 0;max-width: 0;overflow: hidden;text-align: left;background-color: #f0f8ff;}#sk-container-id-1 div.sk-toggleable__content pre {margin: 0.2em;color: black;border-radius: 0.25em;background-color: #f0f8ff;}#sk-container-id-1 input.sk-toggleable__control:checked~div.sk-toggleable__content {max-height: 200px;max-width: 100%;overflow: auto;}#sk-container-id-1 input.sk-toggleable__control:checked~label.sk-toggleable__label-arrow:before {content: \"▾\";}#sk-container-id-1 div.sk-estimator input.sk-toggleable__control:checked~label.sk-toggleable__label {background-color: #d4ebff;}#sk-container-id-1 div.sk-label input.sk-toggleable__control:checked~label.sk-toggleable__label {background-color: #d4ebff;}#sk-container-id-1 input.sk-hidden--visually {border: 0;clip: rect(1px 1px 1px 1px);clip: rect(1px, 1px, 1px, 1px);height: 1px;margin: -1px;overflow: hidden;padding: 0;position: absolute;width: 1px;}#sk-container-id-1 div.sk-estimator {font-family: monospace;background-color: #f0f8ff;border: 1px dotted black;border-radius: 0.25em;box-sizing: border-box;margin-bottom: 0.5em;}#sk-container-id-1 div.sk-estimator:hover {background-color: #d4ebff;}#sk-container-id-1 div.sk-parallel-item::after {content: \"\";width: 100%;border-bottom: 1px solid gray;flex-grow: 1;}#sk-container-id-1 div.sk-label:hover label.sk-toggleable__label {background-color: #d4ebff;}#sk-container-id-1 div.sk-serial::before {content: \"\";position: absolute;border-left: 1px solid gray;box-sizing: border-box;top: 0;bottom: 0;left: 50%;z-index: 0;}#sk-container-id-1 div.sk-serial {display: flex;flex-direction: column;align-items: center;background-color: white;padding-right: 0.2em;padding-left: 0.2em;position: relative;}#sk-container-id-1 div.sk-item {position: relative;z-index: 1;}#sk-container-id-1 div.sk-parallel {display: flex;align-items: stretch;justify-content: center;background-color: white;position: relative;}#sk-container-id-1 div.sk-item::before, #sk-container-id-1 div.sk-parallel-item::before {content: \"\";position: absolute;border-left: 1px solid gray;box-sizing: border-box;top: 0;bottom: 0;left: 50%;z-index: -1;}#sk-container-id-1 div.sk-parallel-item {display: flex;flex-direction: column;z-index: 1;position: relative;background-color: white;}#sk-container-id-1 div.sk-parallel-item:first-child::after {align-self: flex-end;width: 50%;}#sk-container-id-1 div.sk-parallel-item:last-child::after {align-self: flex-start;width: 50%;}#sk-container-id-1 div.sk-parallel-item:only-child::after {width: 0;}#sk-container-id-1 div.sk-dashed-wrapped {border: 1px dashed gray;margin: 0 0.4em 0.5em 0.4em;box-sizing: border-box;padding-bottom: 0.4em;background-color: white;}#sk-container-id-1 div.sk-label label {font-family: monospace;font-weight: bold;display: inline-block;line-height: 1.2em;}#sk-container-id-1 div.sk-label-container {text-align: center;}#sk-container-id-1 div.sk-container {/* jupyter's `normalize.less` sets `[hidden] { display: none; }` but bootstrap.min.css set `[hidden] { display: none !important; }` so we also need the `!important` here to be able to override the default hidden behavior on the sphinx rendered scikit-learn.org. See: https://github.com/scikit-learn/scikit-learn/issues/21755 */display: inline-block !important;position: relative;}#sk-container-id-1 div.sk-text-repr-fallback {display: none;}</style><div id=\"sk-container-id-1\" class=\"sk-top-container\"><div class=\"sk-text-repr-fallback\"><pre>LogisticRegression(random_state=0)</pre><b>In a Jupyter environment, please rerun this cell to show the HTML representation or trust the notebook. <br />On GitHub, the HTML representation is unable to render, please try loading this page with nbviewer.org.</b></div><div class=\"sk-container\" hidden><div class=\"sk-item\"><div class=\"sk-estimator sk-toggleable\"><input class=\"sk-toggleable__control sk-hidden--visually\" id=\"sk-estimator-id-1\" type=\"checkbox\" checked><label for=\"sk-estimator-id-1\" class=\"sk-toggleable__label sk-toggleable__label-arrow\">LogisticRegression</label><div class=\"sk-toggleable__content\"><pre>LogisticRegression(random_state=0)</pre></div></div></div></div></div>"
            ]
          },
          "metadata": {},
          "execution_count": 7
        }
      ]
    },
    {
      "cell_type": "markdown",
      "metadata": {
        "id": "vKYVQH-l5NpE"
      },
      "source": [
        "## Predicting the Test set results"
      ]
    },
    {
      "cell_type": "code",
      "source": [
        "y_pred_test = classifier.predict(x_test)\n",
        "\n",
        "# concatenate => menggabungkan array dalam satu baris\n",
        "# concatenate ((a1, a2, ..), axis)\n",
        "# concatenate axis => 0 = wanna do a vertical concatenation\n",
        "#                     1 = wanna do a horizontal concatenation\n",
        "\n",
        "y_pred_test_reshape = y_pred_test.reshape(len(y_pred_test),1) # convert dari tampilan horizontal ke vertikal\n",
        "y_test_reshape = y_test.reshape(len(y_test),1) # convert dari tampilan horizontal ke vertikal\n",
        "print(np.concatenate((y_pred_test_reshape,y_test_reshape), 1))\n",
        "\n",
        "# y_pred_test_reshape = purchased predict\n",
        "# y_test_reshape = purchased real"
      ],
      "metadata": {
        "colab": {
          "base_uri": "https://localhost:8080/"
        },
        "id": "13luwtsd-Srl",
        "outputId": "8fd6eadf-d4a5-4a4b-844d-8f2a2c089316"
      },
      "execution_count": 8,
      "outputs": [
        {
          "output_type": "stream",
          "name": "stdout",
          "text": [
            "[[2 2]\n",
            " [2 2]\n",
            " [4 4]\n",
            " [4 4]\n",
            " [2 2]\n",
            " [2 2]\n",
            " [2 2]\n",
            " [4 4]\n",
            " [2 2]\n",
            " [2 2]\n",
            " [4 4]\n",
            " [2 2]\n",
            " [4 4]\n",
            " [2 2]\n",
            " [2 2]\n",
            " [2 2]\n",
            " [4 4]\n",
            " [4 4]\n",
            " [4 4]\n",
            " [2 2]\n",
            " [2 2]\n",
            " [2 2]\n",
            " [4 4]\n",
            " [2 2]\n",
            " [4 4]\n",
            " [4 4]\n",
            " [2 2]\n",
            " [2 2]\n",
            " [2 2]\n",
            " [4 4]\n",
            " [2 2]\n",
            " [4 4]\n",
            " [4 4]\n",
            " [2 2]\n",
            " [2 2]\n",
            " [2 2]\n",
            " [4 4]\n",
            " [4 4]\n",
            " [2 2]\n",
            " [4 4]\n",
            " [2 2]\n",
            " [2 2]\n",
            " [2 2]\n",
            " [2 2]\n",
            " [2 2]\n",
            " [2 2]\n",
            " [2 2]\n",
            " [4 4]\n",
            " [2 2]\n",
            " [2 2]\n",
            " [4 4]\n",
            " [2 2]\n",
            " [4 4]\n",
            " [2 2]\n",
            " [2 2]\n",
            " [2 2]\n",
            " [4 4]\n",
            " [4 2]\n",
            " [2 2]\n",
            " [4 4]\n",
            " [2 2]\n",
            " [2 2]\n",
            " [2 2]\n",
            " [2 2]\n",
            " [2 2]\n",
            " [2 2]\n",
            " [2 2]\n",
            " [2 2]\n",
            " [4 4]\n",
            " [4 4]\n",
            " [2 2]\n",
            " [2 2]\n",
            " [2 2]\n",
            " [2 2]\n",
            " [2 2]\n",
            " [2 2]\n",
            " [4 4]\n",
            " [2 2]\n",
            " [2 2]\n",
            " [2 2]\n",
            " [4 4]\n",
            " [2 2]\n",
            " [4 4]\n",
            " [2 2]\n",
            " [2 2]\n",
            " [4 4]\n",
            " [2 2]\n",
            " [4 2]\n",
            " [4 4]\n",
            " [2 2]\n",
            " [4 4]\n",
            " [2 2]\n",
            " [4 4]\n",
            " [4 4]\n",
            " [2 4]\n",
            " [4 2]\n",
            " [4 4]\n",
            " [4 4]\n",
            " [4 4]\n",
            " [2 2]\n",
            " [2 2]\n",
            " [2 2]\n",
            " [4 4]\n",
            " [4 4]\n",
            " [2 2]\n",
            " [2 2]\n",
            " [4 4]\n",
            " [2 4]\n",
            " [2 2]\n",
            " [2 2]\n",
            " [4 4]\n",
            " [2 2]\n",
            " [2 2]\n",
            " [4 4]\n",
            " [2 2]\n",
            " [2 2]\n",
            " [2 2]\n",
            " [2 4]\n",
            " [2 2]\n",
            " [2 2]\n",
            " [2 2]\n",
            " [4 4]\n",
            " [2 2]\n",
            " [2 2]\n",
            " [4 4]\n",
            " [4 4]\n",
            " [2 2]\n",
            " [4 4]\n",
            " [2 2]\n",
            " [4 4]\n",
            " [2 2]\n",
            " [2 2]\n",
            " [4 4]\n",
            " [2 2]\n",
            " [2 2]\n",
            " [4 4]\n",
            " [2 2]]\n"
          ]
        }
      ]
    },
    {
      "cell_type": "markdown",
      "metadata": {
        "id": "h4Hwj34ziWQW"
      },
      "source": [
        "## Making the Confusion Matrix"
      ]
    },
    {
      "cell_type": "code",
      "source": [
        "from sklearn.metrics import confusion_matrix, accuracy_score\n",
        "cm = confusion_matrix(y_test,y_pred_test)\n",
        "print(cm)\n",
        "\n",
        "accuracy_score(y_test, y_pred_test)\n",
        "\n",
        "# 84 the number of correct predictions that a tumor is benign.\n",
        "# 47 the number of correct predictions that the tumor is malignant\n",
        "# 3 (top right) the number of incorrect predictions that the tumor is benign.\n",
        "# 3 (bottom left) the number of incorrect predictions that the tumor is malignant.\n",
        "\n"
      ],
      "metadata": {
        "colab": {
          "base_uri": "https://localhost:8080/"
        },
        "id": "tajbmKkZBynL",
        "outputId": "c85cf389-8589-4aac-eadd-128788bc0ad0"
      },
      "execution_count": 9,
      "outputs": [
        {
          "output_type": "stream",
          "name": "stdout",
          "text": [
            "[[84  3]\n",
            " [ 3 47]]\n"
          ]
        },
        {
          "output_type": "execute_result",
          "data": {
            "text/plain": [
              "0.9562043795620438"
            ]
          },
          "metadata": {},
          "execution_count": 9
        }
      ]
    },
    {
      "cell_type": "markdown",
      "source": [
        "## Computing the accuracy with k-Fold Cross Validation"
      ],
      "metadata": {
        "id": "L_Rt6xcbaBVl"
      }
    },
    {
      "cell_type": "code",
      "source": [
        "from sklearn.model_selection import cross_val_score\n",
        "accuracies = cross_val_score(estimator = classifier, X = x_train, y = y_train, cv = 10)\n",
        "print(\"Accuracy: {:.2f} %\".format(accuracies.mean() * 100))\n",
        "print(\"Standard Devitiation: {:.2f} %\".format(accuracies.std() * 100))"
      ],
      "metadata": {
        "colab": {
          "base_uri": "https://localhost:8080/"
        },
        "id": "R72BRzUyaI_i",
        "outputId": "a75fbded-95bf-4f43-a728-5e491b883035"
      },
      "execution_count": 14,
      "outputs": [
        {
          "output_type": "stream",
          "name": "stdout",
          "text": [
            "Accuracy: 96.70 %\n",
            "Standard Devitiation: 1.97 %\n"
          ]
        }
      ]
    }
  ]
}